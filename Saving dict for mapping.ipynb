{
 "cells": [
  {
   "cell_type": "code",
   "execution_count": 1,
   "id": "0baf1ac2",
   "metadata": {},
   "outputs": [],
   "source": [
    "import pandas as pd\n",
    "import pickle\n",
    "\n",
    "def readfile(filename):\n",
    "    df = pd.read_csv('/Users/samanthalee/Desktop/csv/' + filename +'.csv')\n",
    "    return df\n",
    "\n",
    "def save_dict(column):\n",
    "    df = df_all.set_index('address').to_dict()[column]\n",
    "    with open('/Users/samanthalee/Desktop/' + column +'.pkl', 'wb') as fp:\n",
    "        pickle.dump(df, fp)\n",
    "    \n",
    "df_all = readfile('all_addresses')\n",
    "\n",
    "save_dict('city')\n",
    "save_dict('state')\n",
    "save_dict('zip')\n"
   ]
  },
  {
   "cell_type": "code",
   "execution_count": null,
   "id": "6cb16e31",
   "metadata": {},
   "outputs": [],
   "source": []
  },
  {
   "cell_type": "code",
   "execution_count": null,
   "id": "276c4451",
   "metadata": {},
   "outputs": [],
   "source": []
  }
 ],
 "metadata": {
  "kernelspec": {
   "display_name": "Python 3 (ipykernel)",
   "language": "python",
   "name": "python3"
  },
  "language_info": {
   "codemirror_mode": {
    "name": "ipython",
    "version": 3
   },
   "file_extension": ".py",
   "mimetype": "text/x-python",
   "name": "python",
   "nbconvert_exporter": "python",
   "pygments_lexer": "ipython3",
   "version": "3.9.13"
  }
 },
 "nbformat": 4,
 "nbformat_minor": 5
}
