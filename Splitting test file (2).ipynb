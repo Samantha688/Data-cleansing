{
 "cells": [
  {
   "cell_type": "code",
   "execution_count": 1,
   "id": "0baf1ac2",
   "metadata": {},
   "outputs": [],
   "source": [
    "import pandas as pd\n",
    "import math\n",
    "import numpy as np\n",
    "\n",
    "def readfile(filename):\n",
    "    df = pd.read_csv('/Users/samanthalee/Desktop/' + filename +'.csv')\n",
    "    return df\n",
    "\n",
    "def split(df, n):\n",
    "    list_df = [df_test[i: i+n] for i in range(0, len(df_test), n)]\n",
    "    x = math.ceil(df.shape[0]/n)\n",
    "    for x in range(x):\n",
    "        list_df[x].to_csv('/Users/samanthalee/Desktop/csv/' +  \n",
    "                          'testfile' + str(x) + '.csv', index=False, header=True)\n",
    "        \n",
    "df_test = readfile('test')\n",
    "df_test.shape[0]\n",
    "\n",
    "split(df_test, 10)\n"
   ]
  },
  {
   "cell_type": "code",
   "execution_count": null,
   "id": "6cb16e31",
   "metadata": {},
   "outputs": [],
   "source": []
  },
  {
   "cell_type": "code",
   "execution_count": null,
   "id": "276c4451",
   "metadata": {},
   "outputs": [],
   "source": []
  }
 ],
 "metadata": {
  "kernelspec": {
   "display_name": "Python 3 (ipykernel)",
   "language": "python",
   "name": "python3"
  },
  "language_info": {
   "codemirror_mode": {
    "name": "ipython",
    "version": 3
   },
   "file_extension": ".py",
   "mimetype": "text/x-python",
   "name": "python",
   "nbconvert_exporter": "python",
   "pygments_lexer": "ipython3",
   "version": "3.9.13"
  }
 },
 "nbformat": 4,
 "nbformat_minor": 5
}
