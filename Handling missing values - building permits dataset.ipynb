{
 "cells": [
  {
   "cell_type": "code",
   "execution_count": 26,
   "metadata": {
    "scrolled": false
   },
   "outputs": [
    {
     "name": "stderr",
     "output_type": "stream",
     "text": [
      "/Users/samanthalee/anaconda3/lib/python3.8/site-packages/IPython/core/interactiveshell.py:3145: DtypeWarning: Columns (22,32) have mixed types.Specify dtype option on import or set low_memory=False.\n",
      "  has_raised = await self.run_ast_nodes(code_ast.body, cell_name,\n"
     ]
    },
    {
     "data": {
      "text/plain": [
       "Permit Number                             0\n",
       "Permit Type                               0\n",
       "Permit Type Definition                    0\n",
       "Permit Creation Date                      0\n",
       "Block                                     0\n",
       "Lot                                       0\n",
       "Street Number                             0\n",
       "Street Number Suffix                      0\n",
       "Street Name                               0\n",
       "Street Suffix                             0\n",
       "Unit                                      0\n",
       "Unit Suffix                               0\n",
       "Description                               0\n",
       "Current Status                            0\n",
       "Current Status Date                       0\n",
       "Filed Date                                0\n",
       "Issued Date                               0\n",
       "Completed Date                            0\n",
       "First Construction Document Date          0\n",
       "Structural Notification                   0\n",
       "Number of Existing Stories                0\n",
       "Number of Proposed Stories                0\n",
       "Voluntary Soft-Story Retrofit             0\n",
       "Fire Only Permit                          0\n",
       "Permit Expiration Date                    0\n",
       "Estimated Cost                            0\n",
       "Revised Cost                              0\n",
       "Existing Use                              0\n",
       "Existing Units                            0\n",
       "Proposed Use                              0\n",
       "Proposed Units                            0\n",
       "Plansets                                  0\n",
       "TIDF Compliance                           0\n",
       "Existing Construction Type                0\n",
       "Existing Construction Type Description    0\n",
       "Proposed Construction Type                0\n",
       "Proposed Construction Type Description    0\n",
       "Site Permit                               0\n",
       "Supervisor District                       0\n",
       "Neighborhoods - Analysis Boundaries       0\n",
       "Zipcode                                   0\n",
       "Location                                  0\n",
       "Record ID                                 0\n",
       "dtype: int64"
      ]
     },
     "execution_count": 26,
     "metadata": {},
     "output_type": "execute_result"
    }
   ],
   "source": [
    "#handling missing value using building permits dataset - Kaggle cleansing data course\n",
    "import pandas as pd\n",
    "import numpy as np\n",
    "df = pd.read_csv('/Users/samanthalee/Desktop/Building_Permits.csv')\n",
    "np.random.seed(0)\n",
    "df.head(5)\n",
    "missing_values_count = df.isnull().sum()\n",
    "missing_values_count[0:10] #first 10 columns \n",
    "\n",
    "total_cells = np.product(df.shape) \n",
    "total_missing = missing_values_count.sum()\n",
    "percent_missing = (total_missing/total_cells) * 100 #percent of missing data = 26.26% \n",
    "\n",
    "row_with_na_dropped = df.dropna() #no of rows left = 0; dropping rows with na is not an option\n",
    "col_with_na_dropped = df.dropna(axis=1)\n",
    "dropped_columns = df.shape[1]-col_with_na_dropped.shape[1] #31 cols are dropped, dropping col with na is not an option \n",
    "df_with_na_imputed = df.fillna(method='bfill',axis=0).fillna(0) #replacing with data directly after and filling remaining NaN with 0 \n",
    "df_with_na_imputed.isnull().sum() #checked that there is no more missing values \n"
   ]
  },
  {
   "cell_type": "code",
   "execution_count": null,
   "metadata": {},
   "outputs": [],
   "source": []
  }
 ],
 "metadata": {
  "kernelspec": {
   "display_name": "Python 3",
   "language": "python",
   "name": "python3"
  },
  "language_info": {
   "codemirror_mode": {
    "name": "ipython",
    "version": 3
   },
   "file_extension": ".py",
   "mimetype": "text/x-python",
   "name": "python",
   "nbconvert_exporter": "python",
   "pygments_lexer": "ipython3",
   "version": "3.8.5"
  }
 },
 "nbformat": 4,
 "nbformat_minor": 4
}
